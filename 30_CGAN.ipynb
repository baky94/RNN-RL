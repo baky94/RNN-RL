{
 "cells": [
  {
   "cell_type": "markdown",
   "metadata": {},
   "source": [
    "## 빅데이터 활용 AI 설계\n",
    "# CGAN : Conditional GAN"
   ]
  },
  {
   "cell_type": "code",
   "execution_count": 1,
   "metadata": {},
   "outputs": [],
   "source": [
    "import numpy as np\n",
    "import matplotlib.pyplot as plt"
   ]
  },
  {
   "cell_type": "code",
   "execution_count": 4,
   "metadata": {},
   "outputs": [
    {
     "data": {
      "text/plain": [
       "(60000, 28, 28)"
      ]
     },
     "execution_count": 4,
     "metadata": {},
     "output_type": "execute_result"
    }
   ],
   "source": [
    "from keras.datasets.mnist import load_data\n",
    "\n",
    "(X_train, y_train), (X_test, y_test) = load_data()\n",
    "\n",
    "X_train.shape"
   ]
  },
  {
   "cell_type": "code",
   "execution_count": 5,
   "metadata": {},
   "outputs": [
    {
     "data": {
      "text/plain": [
       "((60000, 28, 28, 1), (60000,))"
      ]
     },
     "execution_count": 5,
     "metadata": {},
     "output_type": "execute_result"
    }
   ],
   "source": [
    "X_train = X_train/255\n",
    "X_train = X_train[:,:,:,np.newaxis]\n",
    "\n",
    "X_train.shape, y_train.shape"
   ]
  },
  {
   "cell_type": "code",
   "execution_count": 35,
   "metadata": {},
   "outputs": [
    {
     "data": {
      "text/plain": [
       "(60000,)"
      ]
     },
     "execution_count": 35,
     "metadata": {},
     "output_type": "execute_result"
    }
   ],
   "source": [
    "y_train.shape"
   ]
  },
  {
   "cell_type": "markdown",
   "metadata": {},
   "source": [
    "### Descriminator 정의"
   ]
  },
  {
   "cell_type": "code",
   "execution_count": 18,
   "metadata": {},
   "outputs": [],
   "source": [
    "from keras.models import Model\n",
    "from keras.layers import Input, Embedding, Reshape, Concatenate, Conv2D, \\\n",
    "        LeakyReLU, Flatten, Dropout, Dense, Conv2DTranspose\n",
    "from keras.optimizers import Adam"
   ]
  },
  {
   "cell_type": "code",
   "execution_count": 52,
   "metadata": {},
   "outputs": [
    {
     "data": {
      "text/plain": [
       "<tf.Tensor 'concatenate_11/concat:0' shape=(?, 28, 28, 2) dtype=float32>"
      ]
     },
     "execution_count": 52,
     "metadata": {},
     "output_type": "execute_result"
    }
   ],
   "source": [
    "in_label = Input((1,))\n",
    "x_label = Embedding(10, 50)(in_label)\n",
    "x_label = Dense(28*28)(x_label)\n",
    "x_label = Reshape((28,28,1))(x_label) # 0~9 의 레이블을 받아들여서 28*28 인 채널을 하나 생성함\n",
    "\n",
    "in_image = Input((28,28,1))\n",
    "\n",
    "x = Concatenate()([in_image, x_label]) # 흑백이미지는 채널이 1, 레이블 채널을 추가해서 채널이 2가 됨\n",
    "\n",
    "x # (?, 28, 28, 2)"
   ]
  },
  {
   "cell_type": "code",
   "execution_count": 53,
   "metadata": {},
   "outputs": [
    {
     "name": "stdout",
     "output_type": "stream",
     "text": [
      "__________________________________________________________________________________________________\n",
      "Layer (type)                    Output Shape         Param #     Connected to                     \n",
      "==================================================================================================\n",
      "input_22 (InputLayer)           (None, 1)            0                                            \n",
      "__________________________________________________________________________________________________\n",
      "embedding_12 (Embedding)        (None, 1, 50)        500         input_22[0][0]                   \n",
      "__________________________________________________________________________________________________\n",
      "dense_20 (Dense)                (None, 1, 784)       39984       embedding_12[0][0]               \n",
      "__________________________________________________________________________________________________\n",
      "input_23 (InputLayer)           (None, 28, 28, 1)    0                                            \n",
      "__________________________________________________________________________________________________\n",
      "reshape_16 (Reshape)            (None, 28, 28, 1)    0           dense_20[0][0]                   \n",
      "__________________________________________________________________________________________________\n",
      "concatenate_11 (Concatenate)    (None, 28, 28, 2)    0           input_23[0][0]                   \n",
      "                                                                 reshape_16[0][0]                 \n",
      "__________________________________________________________________________________________________\n",
      "conv2d_13 (Conv2D)              (None, 14, 14, 128)  2432        concatenate_11[0][0]             \n",
      "__________________________________________________________________________________________________\n",
      "leaky_re_lu_24 (LeakyReLU)      (None, 14, 14, 128)  0           conv2d_13[0][0]                  \n",
      "__________________________________________________________________________________________________\n",
      "conv2d_14 (Conv2D)              (None, 7, 7, 128)    147584      leaky_re_lu_24[0][0]             \n",
      "__________________________________________________________________________________________________\n",
      "leaky_re_lu_25 (LeakyReLU)      (None, 7, 7, 128)    0           conv2d_14[0][0]                  \n",
      "__________________________________________________________________________________________________\n",
      "flatten_4 (Flatten)             (None, 6272)         0           leaky_re_lu_25[0][0]             \n",
      "__________________________________________________________________________________________________\n",
      "dropout_4 (Dropout)             (None, 6272)         0           flatten_4[0][0]                  \n",
      "__________________________________________________________________________________________________\n",
      "dense_21 (Dense)                (None, 1)            6273        dropout_4[0][0]                  \n",
      "==================================================================================================\n",
      "Total params: 196,773\n",
      "Trainable params: 196,773\n",
      "Non-trainable params: 0\n",
      "__________________________________________________________________________________________________\n"
     ]
    }
   ],
   "source": [
    "x = Conv2D(128, (3,3), strides=(2,2), padding='same')(x)\n",
    "x = LeakyReLU(alpha=0.2)(x)\n",
    "\n",
    "x = Conv2D(128, (3,3), strides=(2,2), padding='same')(x)\n",
    "x = LeakyReLU(alpha=0.2)(x)\n",
    "\n",
    "x = Flatten()(x)\n",
    "x = Dropout(0.4)(x)\n",
    "\n",
    "output = Dense(1, activation='sigmoid')(x)\n",
    "\n",
    "discriminator = Model([in_image, in_label], output)\n",
    "discriminator.compile(loss='binary_crossentropy', optimizer=Adam(lr=0.0002, beta_1=0.5), metrics=['acc'])\n",
    "\n",
    "discriminator.summary()"
   ]
  },
  {
   "cell_type": "markdown",
   "metadata": {},
   "source": [
    "### Generator 정의"
   ]
  },
  {
   "cell_type": "code",
   "execution_count": 54,
   "metadata": {},
   "outputs": [
    {
     "data": {
      "text/plain": [
       "<tf.Tensor 'concatenate_12/concat:0' shape=(?, 7, 7, 129) dtype=float32>"
      ]
     },
     "execution_count": 54,
     "metadata": {},
     "output_type": "execute_result"
    }
   ],
   "source": [
    "in_label = Input((1,))\n",
    "x_label = Embedding(10, 50)(in_label)\n",
    "x_label = Dense(7*7)(x_label)\n",
    "x_label = Reshape((7,7,1))(x_label) # 0~9 의 레이블을 받아들여서 7*7 인 채널을 하나 생성함\n",
    "\n",
    "in_latent = Input((100,))\n",
    "x_latent = Dense(7*7*128)(in_latent)\n",
    "x_latent = LeakyReLU(alpha=0.2)(x_latent)\n",
    "x_latent = Reshape((7,7,128))(x_latent)\n",
    "\n",
    "x = Concatenate()([x_latent, x_label]) # (7,7,128) 생성 이미지층과 (7,7,1) 레이블 층을 결합\n",
    "\n",
    "x # (?, 7, 7, 129)"
   ]
  },
  {
   "cell_type": "code",
   "execution_count": 55,
   "metadata": {},
   "outputs": [],
   "source": [
    "x = Conv2DTranspose(128, (4,4), strides=(2,2), padding='same')(x)\n",
    "x = LeakyReLU(alpha=0.2)(x)\n",
    "\n",
    "x = Conv2DTranspose(128, (4,4), strides=(2,2), padding='same')(x)\n",
    "x = LeakyReLU(alpha=0.2)(x)\n",
    "\n",
    "output = Conv2D(1, (7,7), activation='sigmoid', padding='same')(x)  # why tanh not sigmoid?\n",
    "\n",
    "generator = Model([in_latent, in_label], output)"
   ]
  },
  {
   "cell_type": "code",
   "execution_count": 56,
   "metadata": {},
   "outputs": [
    {
     "name": "stdout",
     "output_type": "stream",
     "text": [
      "__________________________________________________________________________________________________\n",
      "Layer (type)                    Output Shape         Param #     Connected to                     \n",
      "==================================================================================================\n",
      "input_25 (InputLayer)           (None, 100)          0                                            \n",
      "__________________________________________________________________________________________________\n",
      "input_24 (InputLayer)           (None, 1)            0                                            \n",
      "__________________________________________________________________________________________________\n",
      "dense_23 (Dense)                (None, 6272)         633472      input_25[0][0]                   \n",
      "__________________________________________________________________________________________________\n",
      "embedding_13 (Embedding)        (None, 1, 50)        500         input_24[0][0]                   \n",
      "__________________________________________________________________________________________________\n",
      "leaky_re_lu_26 (LeakyReLU)      (None, 6272)         0           dense_23[0][0]                   \n",
      "__________________________________________________________________________________________________\n",
      "dense_22 (Dense)                (None, 1, 49)        2499        embedding_13[0][0]               \n",
      "__________________________________________________________________________________________________\n",
      "reshape_18 (Reshape)            (None, 7, 7, 128)    0           leaky_re_lu_26[0][0]             \n",
      "__________________________________________________________________________________________________\n",
      "reshape_17 (Reshape)            (None, 7, 7, 1)      0           dense_22[0][0]                   \n",
      "__________________________________________________________________________________________________\n",
      "concatenate_12 (Concatenate)    (None, 7, 7, 129)    0           reshape_18[0][0]                 \n",
      "                                                                 reshape_17[0][0]                 \n",
      "__________________________________________________________________________________________________\n",
      "conv2d_transpose_13 (Conv2DTran (None, 14, 14, 128)  264320      concatenate_12[0][0]             \n",
      "__________________________________________________________________________________________________\n",
      "leaky_re_lu_27 (LeakyReLU)      (None, 14, 14, 128)  0           conv2d_transpose_13[0][0]        \n",
      "__________________________________________________________________________________________________\n",
      "conv2d_transpose_14 (Conv2DTran (None, 28, 28, 128)  262272      leaky_re_lu_27[0][0]             \n",
      "__________________________________________________________________________________________________\n",
      "leaky_re_lu_28 (LeakyReLU)      (None, 28, 28, 128)  0           conv2d_transpose_14[0][0]        \n",
      "__________________________________________________________________________________________________\n",
      "conv2d_15 (Conv2D)              (None, 28, 28, 1)    6273        leaky_re_lu_28[0][0]             \n",
      "==================================================================================================\n",
      "Total params: 1,169,336\n",
      "Trainable params: 1,169,336\n",
      "Non-trainable params: 0\n",
      "__________________________________________________________________________________________________\n"
     ]
    }
   ],
   "source": [
    "generator.summary()"
   ]
  },
  {
   "cell_type": "markdown",
   "metadata": {},
   "source": [
    "### Adversarial 정의"
   ]
  },
  {
   "cell_type": "code",
   "execution_count": 57,
   "metadata": {},
   "outputs": [
    {
     "name": "stdout",
     "output_type": "stream",
     "text": [
      "__________________________________________________________________________________________________\n",
      "Layer (type)                    Output Shape         Param #     Connected to                     \n",
      "==================================================================================================\n",
      "input_25 (InputLayer)           (None, 100)          0                                            \n",
      "__________________________________________________________________________________________________\n",
      "input_24 (InputLayer)           (None, 1)            0                                            \n",
      "__________________________________________________________________________________________________\n",
      "dense_23 (Dense)                (None, 6272)         633472      input_25[0][0]                   \n",
      "__________________________________________________________________________________________________\n",
      "embedding_13 (Embedding)        (None, 1, 50)        500         input_24[0][0]                   \n",
      "__________________________________________________________________________________________________\n",
      "leaky_re_lu_26 (LeakyReLU)      (None, 6272)         0           dense_23[0][0]                   \n",
      "__________________________________________________________________________________________________\n",
      "dense_22 (Dense)                (None, 1, 49)        2499        embedding_13[0][0]               \n",
      "__________________________________________________________________________________________________\n",
      "reshape_18 (Reshape)            (None, 7, 7, 128)    0           leaky_re_lu_26[0][0]             \n",
      "__________________________________________________________________________________________________\n",
      "reshape_17 (Reshape)            (None, 7, 7, 1)      0           dense_22[0][0]                   \n",
      "__________________________________________________________________________________________________\n",
      "concatenate_12 (Concatenate)    (None, 7, 7, 129)    0           reshape_18[0][0]                 \n",
      "                                                                 reshape_17[0][0]                 \n",
      "__________________________________________________________________________________________________\n",
      "conv2d_transpose_13 (Conv2DTran (None, 14, 14, 128)  264320      concatenate_12[0][0]             \n",
      "__________________________________________________________________________________________________\n",
      "leaky_re_lu_27 (LeakyReLU)      (None, 14, 14, 128)  0           conv2d_transpose_13[0][0]        \n",
      "__________________________________________________________________________________________________\n",
      "conv2d_transpose_14 (Conv2DTran (None, 28, 28, 128)  262272      leaky_re_lu_27[0][0]             \n",
      "__________________________________________________________________________________________________\n",
      "leaky_re_lu_28 (LeakyReLU)      (None, 28, 28, 128)  0           conv2d_transpose_14[0][0]        \n",
      "__________________________________________________________________________________________________\n",
      "conv2d_15 (Conv2D)              (None, 28, 28, 1)    6273        leaky_re_lu_28[0][0]             \n",
      "__________________________________________________________________________________________________\n",
      "model_11 (Model)                (None, 1)            196773      conv2d_15[0][0]                  \n",
      "                                                                 input_24[0][0]                   \n",
      "==================================================================================================\n",
      "Total params: 1,366,109\n",
      "Trainable params: 1,169,336\n",
      "Non-trainable params: 196,773\n",
      "__________________________________________________________________________________________________\n"
     ]
    }
   ],
   "source": [
    "discriminator.trainable = False\n",
    "\n",
    "#adversarial = Model([in_latent, in_label], discriminator([generator([in_latent, in_label]), in_label])\n",
    "adversarial = Model([in_latent, in_label], discriminator([output, in_label]))\n",
    "adversarial.summary()"
   ]
  },
  {
   "cell_type": "code",
   "execution_count": 58,
   "metadata": {},
   "outputs": [],
   "source": [
    "adversarial.compile(loss='binary_crossentropy', optimizer=Adam(lr=0.0002, beta_1=0.5), metrics=['acc'])"
   ]
  },
  {
   "cell_type": "markdown",
   "metadata": {},
   "source": [
    "### 훈련"
   ]
  },
  {
   "cell_type": "code",
   "execution_count": 59,
   "metadata": {},
   "outputs": [
    {
     "name": "stderr",
     "output_type": "stream",
     "text": [
      "C:\\Anaconda3\\envs\\py36\\lib\\site-packages\\keras\\engine\\training.py:490: UserWarning: Discrepancy between trainable weights and collected trainable weights, did you set `model.trainable` without calling `model.compile` after ?\n",
      "  'Discrepancy between trainable weights and collected trainable'\n"
     ]
    },
    {
     "name": "stdout",
     "output_type": "stream",
     "text": [
      "Step: 00001,  [0.6899303, 0.53125, 0.7329253, 0.0]\n",
      "Step: 00002,  [0.6765008, 0.703125, 0.75929046, 0.0]\n",
      "Step: 00003,  [0.6572873, 0.796875, 0.7875357, 0.0]\n",
      "Step: 00004,  [0.6462057, 0.7890625, 0.82242084, 0.0]\n",
      "Step: 00005,  [0.63395214, 0.796875, 0.85622275, 0.0]\n",
      "Step: 00006,  [0.61893356, 0.875, 0.895667, 0.0]\n",
      "Step: 00007,  [0.6071257, 0.84375, 0.929701, 0.0]\n",
      "Step: 00008,  [0.59555155, 0.8359375, 0.9574631, 0.0]\n",
      "Step: 00009,  [0.58315945, 0.8828125, 0.99115694, 0.0]\n",
      "Step: 00010,  [0.57372993, 0.9453125, 1.0109124, 0.0]\n",
      "Step: 00011,  [0.56745654, 0.9453125, 1.0099661, 0.0]\n",
      "Step: 00012,  [0.5669149, 0.9609375, 0.98432416, 0.0]\n",
      "Step: 00013,  [0.5693575, 0.984375, 0.94878495, 0.0]\n",
      "Step: 00014,  [0.56769395, 1.0, 0.9080099, 0.0]\n",
      "Step: 00015,  [0.5687106, 1.0, 0.851561, 0.0]\n",
      "Step: 00016,  [0.5739318, 1.0, 0.8088491, 0.0]\n",
      "Step: 00017,  [0.57351345, 1.0, 0.7779039, 0.0]\n",
      "Step: 00018,  [0.5569184, 1.0, 0.7570441, 0.0]\n",
      "Step: 00019,  [0.5526495, 1.0, 0.73965716, 0.0]\n",
      "Step: 00020,  [0.5307945, 1.0, 0.7290354, 0.0]\n",
      "Step: 00021,  [0.5302911, 1.0, 0.7198883, 0.0]\n",
      "Step: 00022,  [0.51552844, 1.0, 0.7174948, 0.0]\n",
      "Step: 00023,  [0.49776548, 1.0, 0.7163845, 0.0]\n",
      "Step: 00024,  [0.47528177, 1.0, 0.7145103, 0.0]\n",
      "Step: 00025,  [0.4694587, 1.0, 0.7161781, 0.0]\n",
      "Step: 00026,  [0.46045905, 1.0, 0.719187, 0.0]\n",
      "Step: 00027,  [0.44948953, 1.0, 0.7216151, 0.0]\n",
      "Step: 00028,  [0.42902625, 1.0, 0.72409254, 0.0]\n",
      "Step: 00029,  [0.4230007, 1.0, 0.7307163, 0.0]\n",
      "Step: 00030,  [0.40684393, 1.0, 0.7349055, 0.0]\n",
      "Step: 00031,  [0.39311635, 1.0, 0.7396487, 0.0]\n",
      "Step: 00032,  [0.39081395, 1.0, 0.74647874, 0.0]\n",
      "Step: 00033,  [0.3748336, 1.0, 0.7554152, 0.0]\n",
      "Step: 00034,  [0.37905437, 1.0, 0.7631544, 0.0]\n",
      "Step: 00035,  [0.36414728, 1.0, 0.7738645, 0.0]\n",
      "Step: 00036,  [0.3543642, 1.0, 0.78469044, 0.0]\n",
      "Step: 00037,  [0.34645945, 1.0, 0.79874706, 0.0]\n",
      "Step: 00038,  [0.3350295, 1.0, 0.8144712, 0.0]\n",
      "Step: 00039,  [0.3273188, 1.0, 0.8327166, 0.0]\n",
      "Step: 00040,  [0.3230724, 1.0, 0.85328245, 0.0]\n",
      "Step: 00041,  [0.31317022, 1.0, 0.876845, 0.0]\n",
      "Step: 00042,  [0.29855308, 1.0, 0.90755224, 0.0]\n",
      "Step: 00043,  [0.29284647, 1.0, 0.9432863, 0.0]\n",
      "Step: 00044,  [0.2690484, 1.0, 0.9875108, 0.0]\n",
      "Step: 00045,  [0.25963274, 1.0, 1.0317509, 0.0]\n",
      "Step: 00046,  [0.24491137, 1.0, 1.0846765, 0.0]\n",
      "Step: 00047,  [0.22586952, 1.0, 1.1436769, 0.0]\n",
      "Step: 00048,  [0.21679947, 1.0, 1.2184829, 0.0]\n",
      "Step: 00049,  [0.19819608, 1.0, 1.2932875, 0.0]\n",
      "Step: 00050,  [0.18583715, 1.0, 1.3827493, 0.0]\n",
      "Step: 00051,  [0.16278505, 1.0, 1.4646597, 0.0]\n",
      "Step: 00052,  [0.16095133, 1.0, 1.5626415, 0.0]\n",
      "Step: 00053,  [0.14702119, 1.0, 1.6790111, 0.0]\n",
      "Step: 00054,  [0.13000989, 1.0, 1.7710289, 0.0]\n",
      "Step: 00055,  [0.11245479, 1.0, 1.8850505, 0.0]\n",
      "Step: 00056,  [0.10287125, 1.0, 1.9885218, 0.0]\n",
      "Step: 00057,  [0.09581129, 1.0, 2.1207473, 0.0]\n",
      "Step: 00058,  [0.094464496, 1.0, 2.1993773, 0.0]\n",
      "Step: 00059,  [0.08895882, 1.0, 2.2914145, 0.0]\n",
      "Step: 00060,  [0.06711668, 1.0, 2.392129, 0.0]\n",
      "Step: 00061,  [0.06222032, 1.0, 2.480308, 0.0]\n",
      "Step: 00062,  [0.063644886, 1.0, 2.595934, 0.0]\n",
      "Step: 00063,  [0.059585452, 1.0, 2.6742334, 0.0]\n",
      "Step: 00064,  [0.059008244, 1.0, 2.7260566, 0.0]\n",
      "Step: 00065,  [0.050412044, 1.0, 2.8055954, 0.0]\n",
      "Step: 00066,  [0.047010187, 1.0, 2.8949285, 0.0]\n",
      "Step: 00067,  [0.047975276, 1.0, 2.9417036, 0.0]\n",
      "Step: 00068,  [0.037698172, 1.0, 3.018297, 0.0]\n",
      "Step: 00069,  [0.038293757, 1.0, 3.0690799, 0.0]\n",
      "Step: 00070,  [0.036770053, 1.0, 3.1626515, 0.0]\n",
      "Step: 00071,  [0.033685103, 1.0, 3.2288244, 0.0]\n",
      "Step: 00072,  [0.032404885, 1.0, 3.3024979, 0.0]\n",
      "Step: 00073,  [0.026953159, 1.0, 3.3593884, 0.0]\n",
      "Step: 00074,  [0.030096833, 1.0, 3.3813868, 0.0]\n",
      "Step: 00075,  [0.026309032, 1.0, 3.4427238, 0.0]\n",
      "Step: 00076,  [0.02180265, 1.0, 3.5545666, 0.0]\n",
      "Step: 00077,  [0.027288124, 1.0, 3.6077888, 0.0]\n",
      "Step: 00078,  [0.026686737, 1.0, 3.6285882, 0.0]\n",
      "Step: 00079,  [0.016965095, 1.0, 3.6804926, 0.0]\n",
      "Step: 00080,  [0.02926759, 1.0, 3.7062373, 0.0]\n",
      "Step: 00081,  [0.020776823, 1.0, 3.7194219, 0.0]\n",
      "Step: 00082,  [0.018565204, 1.0, 3.7731702, 0.0]\n",
      "Step: 00083,  [0.017314583, 1.0, 3.8639836, 0.0]\n",
      "Step: 00084,  [0.017188758, 1.0, 3.8669786, 0.0]\n",
      "Step: 00085,  [0.0132569745, 1.0, 3.9179974, 0.0]\n",
      "Step: 00086,  [0.012230312, 1.0, 4.005086, 0.0]\n",
      "Step: 00087,  [0.01562683, 1.0, 4.0539913, 0.0]\n",
      "Step: 00088,  [0.012631284, 1.0, 4.11904, 0.0]\n",
      "Step: 00089,  [0.018391132, 1.0, 4.1356034, 0.0]\n",
      "Step: 00090,  [0.017272335, 1.0, 4.1517897, 0.0]\n",
      "Step: 00091,  [0.009911294, 1.0, 4.1942725, 0.0]\n",
      "Step: 00092,  [0.017371109, 1.0, 4.187888, 0.0]\n",
      "Step: 00093,  [0.010776054, 1.0, 4.261173, 0.0]\n",
      "Step: 00094,  [0.011958827, 1.0, 4.29642, 0.0]\n",
      "Step: 00095,  [0.012608182, 1.0, 4.3057528, 0.0]\n",
      "Step: 00096,  [0.010605872, 1.0, 4.390855, 0.0]\n",
      "Step: 00097,  [0.018717237, 0.9921875, 4.3750014, 0.0]\n",
      "Step: 00098,  [0.012487618, 1.0, 4.3649254, 0.0]\n",
      "Step: 00099,  [0.017923877, 1.0, 4.270268, 0.0]\n",
      "Step: 00100,  [0.009810115, 1.0, 4.373477, 0.0]\n"
     ]
    }
   ],
   "source": [
    "from keras.preprocessing import image\n",
    "\n",
    "batch_size = 64\n",
    "logs = [] # d_loss,d_acc,a_loss,a_acc\n",
    "\n",
    "for step in range(100):\n",
    "    indices = np.random.randint(0, len(X_train), size=batch_size)\n",
    "    real_images = X_train[indices]\n",
    "    real_labels = y_train[indices]\n",
    "    \n",
    "    gen_vectors = np.random.uniform(-1, 1, size=[batch_size,100])\n",
    "    gen_labels = np.random.randint(10, size=batch_size)\n",
    "    fake_images = generator.predict([gen_vectors, gen_labels])\n",
    "    \n",
    "    X = np.r_[real_images, fake_images] # [batch_size*2,28,28,1]\n",
    "    y_label = np.r_[real_labels, gen_labels] # (batch_size*2,)\n",
    "    y = np.r_[np.ones([batch_size,1]), np.zeros([batch_size,1])] # [batch_size*2,1]\n",
    "        # fake: 0, real: 1\n",
    "        \n",
    "    ###########\n",
    "    d_loss, d_acc = discriminator.train_on_batch([X,y_label], y)\n",
    "    \n",
    "    gen_vectors_2 = np.random.uniform(-1, 1, size=[batch_size,100])\n",
    "    gen_labels2 = np.random.randint(10, size=(batch_size,1))\n",
    "    ###########\n",
    "    a_loss, a_acc = adversarial.train_on_batch([gen_vectors_2, gen_labels2], np.ones([batch_size,1]))\n",
    "            # 타겟값을 모두 1로 놓는다\n",
    "    \n",
    "    logs.append([d_loss,d_acc,a_loss,a_acc])\n",
    "    print('Step: %05d, ' % (step+1), logs[-1])\n",
    "    \n",
    "    if (step+1)%10 == 0:\n",
    "        adversarial.save_weights('gan_mnist.h5')\n",
    "    \n",
    "        img = image.array_to_img(fake_images[0]*255., scale=False)\n",
    "        img.save('cgan_images/fake_%05d.png' % (step+1))"
   ]
  },
  {
   "cell_type": "code",
   "execution_count": 60,
   "metadata": {},
   "outputs": [
    {
     "data": {
      "text/plain": [
       "<matplotlib.legend.Legend at 0x27eebc0b518>"
      ]
     },
     "execution_count": 60,
     "metadata": {},
     "output_type": "execute_result"
    },
    {
     "data": {
      "image/png": "[encoded data removed]",
      "text/plain": [
       "<Figure size 432x288 with 1 Axes>"
      ]
     },
     "metadata": {},
     "output_type": "display_data"
    }
   ],
   "source": [
    "plt.plot([i[0] for i in logs][::10], 'b-', label='d_loss')\n",
    "plt.plot([i[2] for i in logs][::10], 'r-', label='a_loss')\n",
    "plt.legend()"
   ]
  },
  {
   "cell_type": "code",
   "execution_count": 61,
   "metadata": {},
   "outputs": [
    {
     "data": {
      "text/plain": [
       "<matplotlib.legend.Legend at 0x27eebcd8438>"
      ]
     },
     "execution_count": 61,
     "metadata": {},
     "output_type": "execute_result"
    },
    {
     "data": {
      "image/png": "[encoded data removed]",
      "text/plain": [
       "<Figure size 432x288 with 1 Axes>"
      ]
     },
     "metadata": {},
     "output_type": "display_data"
    }
   ],
   "source": [
    "plt.plot([i[1] for i in logs][::10], 'b-', label='d_acc')\n",
    "plt.plot([i[3] for i in logs][::10], 'r-', label='a_acc')\n",
    "plt.legend()"
   ]
  }
 ],
 "metadata": {
  "kernelspec": {
   "display_name": "Python 3",
   "language": "python",
   "name": "python3"
  },
  "language_info": {
   "codemirror_mode": {
    "name": "ipython",
    "version": 3
   },
   "file_extension": ".py",
   "mimetype": "text/x-python",
   "name": "python",
   "nbconvert_exporter": "python",
   "pygments_lexer": "ipython3",
   "version": "3.6.5"
  }
 },
 "nbformat": 4,
 "nbformat_minor": 2
}
