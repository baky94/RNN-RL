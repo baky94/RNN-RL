{
 "cells": [
  {
   "cell_type": "markdown",
   "metadata": {},
   "source": [
    "## 4차산업 선도인력 - 빅데이터(딥러닝) 활용 AI 설계 (A반)\n",
    "### 2019.4.22(월) ~ 2019.11.27(수)\n",
    "# 강사 소개"
   ]
  },
  {
   "attachments": {},
   "cell_type": "markdown",
   "metadata": {},
   "source": [
    "### 김현호\n",
    "- 서울대 물리학과 학사/석사\n",
    "- KT 연구소 17년 근무\n",
    "- 파이썬, 머신러닝, 인공지능 강사\n",
    "- 지능형로봇/홈네트워크 개발, 감성 및 인공지능 연구\n",
    "- 파이썬과 머신러닝을 활용한 데이터 분석 및 응용\n",
    "- C/C++, 자바, 파이썬, DB/SQL 등"
   ]
  },
  {
   "attachments": {},
   "cell_type": "markdown",
   "metadata": {},
   "source": [
    "### 연락처\n",
    "- 010-2737-6532\n",
    "- gubos@naver.com\n",
    "- http://github.com/gubosd/lecture8"
   ]
  },
  {
   "cell_type": "markdown",
   "metadata": {},
   "source": [
    "### 강의 이력\n",
    "- 경기도 빅데이타 전문인력 양성과정 : 2016년\n",
    "- 성남시 재직자 SW역량강화 교육 (빅데이터 분석 실무) 2회 : 2018년\n",
    "- 파이썬 기반 빅데이터 분석 실무과정 3회 : 2018~2019년\n",
    "- 인공지능 프로그래밍 입문 과정 : 2019년"
   ]
  }
 ],
 "metadata": {
  "kernelspec": {
   "display_name": "Python 3",
   "language": "python",
   "name": "python3"
  },
  "language_info": {
   "codemirror_mode": {
    "name": "ipython",
    "version": 3
   },
   "file_extension": ".py",
   "mimetype": "text/x-python",
   "name": "python",
   "nbconvert_exporter": "python",
   "pygments_lexer": "ipython3",
   "version": "3.6.5"
  }
 },
 "nbformat": 4,
 "nbformat_minor": 2
}
