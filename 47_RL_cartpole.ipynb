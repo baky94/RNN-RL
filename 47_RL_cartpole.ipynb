{
 "cells": [
  {
   "cell_type": "markdown",
   "metadata": {},
   "source": [
    "## 빅데이터 활용 AI 설계\n",
    "# CartPole-v0 with Keras\n",
    "- https://gist.github.com/tsu-nera/edd306ddeefebe4afb1efceefbc3f953 소스 참고\n",
    "- dqn_cartpole_keras.py 로 다운받음"
   ]
  },
  {
   "cell_type": "markdown",
   "metadata": {},
   "source": [
    "### OpenAI gym\n",
    "- 설치 : pip install gym\n",
    "- 홈페이지 : http://gym.openai.com/\n",
    "- 공식블로그 : https://github.com/openai/gym"
   ]
  },
  {
   "cell_type": "markdown",
   "metadata": {},
   "source": [
    "### gym 기본 사용법\n",
    "\n",
    "```\n",
    "import gym\n",
    "\n",
    "env = gym.make(\"CartPole-v1\")\n",
    "observation = env.reset()\n",
    "\n",
    "for _ in range(1000):\n",
    "  env.render()\n",
    "  action = env.action_space.sample() # your agent here (this takes random actions)\n",
    "  observation, reward, done, info = env.step(action)\n",
    "\n",
    "  if done:\n",
    "    observation = env.reset()\n",
    "\n",
    "env.close()\n",
    "```"
   ]
  },
  {
   "attachments": {
    "image.png": {
     "image/png": "[encoded data removed]"
    }
   },
   "cell_type": "markdown",
   "metadata": {},
   "source": [
    "### CartPole-v0 게임 정보\n",
    "\n",
    "![image.png](attachment:image.png)\n",
    "\n",
    "#### 사이트\n",
    "- https://github.com/openai/gym/wiki/CartPole-v0\n",
    "- https://gym.openai.com/envs/CartPole-v0/\n",
    "\n",
    "#### States\n",
    "- x 좌표 (-2.4 ~ 2.4)\n",
    "- 이동 속도 (-inf ~ inf)\n",
    "- 각도 (-41.8도 ~ 41.8도)\n",
    "- 각속도 (-inf ~ inf)\n",
    "\n",
    "#### Actions\n",
    "- 0 : push cart to the left\n",
    "- 1 : push cart to the right\n",
    "\n",
    "#### Rewards\n",
    "- Reward is 1 for every step taken, including the termination step\n",
    "\n",
    "#### 종료 조건\n",
    "- 12도를 넘어가는 경우 (실제로는 20도로 적용되는 걸로 보임. 20.01도 등은 종료안함.)\n",
    "- 중심에서 2.4 만큼 멀어지는 경우 (화면 경계임)\n",
    "\n",
    "#### 해결 판정\n",
    "- 100번 실행했을 때, 총보상의 평균값이 195점 이상 나올때\n",
    "\n",
    "#### v0 과 v1 의 차이\n",
    "- 최대 시행횟수가 200 과 500 임\n",
    "- https://stackoverflow.com/questions/56904270/difference-between-openai-gym-environments-cartpole-v0-and-cartpole-v1"
   ]
  },
  {
   "cell_type": "markdown",
   "metadata": {},
   "source": [
    "### 실행 테스트"
   ]
  },
  {
   "cell_type": "code",
   "execution_count": 3,
   "metadata": {},
   "outputs": [
    {
     "name": "stdout",
     "output_type": "stream",
     "text": [
      "100 [ 0.00963523 -0.13865754 -0.03115811  0.13762115] 1.0 False {}\n",
      "200 [ 0.05855011  0.34014711  0.0187925  -0.25489042] 1.0 False {}\n",
      "300 [ 0.00962226  0.433914   -0.13831587 -0.89224852] 1.0 False {}\n",
      "400 [ 0.04535148  0.03499778 -0.01926139 -0.00414132] 1.0 False {}\n",
      "500 [ 0.01482263 -0.16496721 -0.02927141  0.26706512] 1.0 False {}\n",
      "600 [-0.01274132  0.7750831  -0.07751519 -1.29865742] 1.0 False {}\n",
      "700 [ 0.00985845  0.39210047  0.02368744 -0.45026255] 1.0 False {}\n",
      "800 [-0.02459865 -0.18000234  0.10394184  0.46793501] 1.0 False {}\n",
      "900 [ 0.05392845  0.38521305 -0.18881818 -0.94325695] 1.0 False {}\n",
      "1000 [ 0.02812995  0.39948908 -0.09705501 -0.6829328 ] 1.0 False {}\n"
     ]
    }
   ],
   "source": [
    "import gym\n",
    "\n",
    "env = gym.make(\"CartPole-v0\")\n",
    "observation = env.reset()\n",
    "\n",
    "for i in range(1000):\n",
    "    env.render()\n",
    "    action = env.action_space.sample() # your agent here (this takes random actions)\n",
    "    observation, reward, done, info = env.step(action)\n",
    "\n",
    "    if (i+1)%100 == 0:\n",
    "        print(i+1, observation, reward, done, info)\n",
    "        \n",
    "    if done:\n",
    "        observation = env.reset()\n",
    "\n",
    "env.close()"
   ]
  },
  {
   "cell_type": "code",
   "execution_count": null,
   "metadata": {},
   "outputs": [],
   "source": []
  },
  {
   "cell_type": "markdown",
   "metadata": {},
   "source": [
    "### 초기 설정"
   ]
  },
  {
   "cell_type": "code",
   "execution_count": 4,
   "metadata": {},
   "outputs": [],
   "source": [
    "import numpy as np\n",
    "import matplotlib.pyplot as plt\n",
    "import gym"
   ]
  },
  {
   "cell_type": "code",
   "execution_count": 5,
   "metadata": {},
   "outputs": [],
   "source": [
    "env = gym.make('CartPole-v0')"
   ]
  },
  {
   "cell_type": "markdown",
   "metadata": {},
   "source": [
    "### 케라스 모델 생성"
   ]
  },
  {
   "cell_type": "code",
   "execution_count": 6,
   "metadata": {},
   "outputs": [
    {
     "name": "stderr",
     "output_type": "stream",
     "text": [
      "C:\\Anaconda3\\envs\\py36\\lib\\site-packages\\h5py\\__init__.py:36: FutureWarning: Conversion of the second argument of issubdtype from `float` to `np.floating` is deprecated. In future, it will be treated as `np.float64 == np.dtype(float).type`.\n",
      "  from ._conv import register_converters as _register_converters\n",
      "Using TensorFlow backend.\n"
     ]
    }
   ],
   "source": [
    "from keras.models import Sequential\n",
    "from keras.layers import Dense\n",
    "from keras.optimizers import RMSprop"
   ]
  },
  {
   "cell_type": "markdown",
   "metadata": {},
   "source": [
    "- 입력 : 상태값 4개 (x좌표, 이동속도, 각도, 각속도)\n",
    "- 출력 : 행동 2개에 대한 Q값"
   ]
  },
  {
   "cell_type": "code",
   "execution_count": 7,
   "metadata": {},
   "outputs": [],
   "source": [
    "model = Sequential()\n",
    "model.add(Dense(16, activation='relu', input_shape=(4,)))\n",
    "model.add(Dense(16, activation='relu'))\n",
    "model.add(Dense(2, activation='linear')) # 0 or 1\n",
    "\n",
    "model.compile(loss='mse', optimizer=RMSprop(lr=0.001)) # lr=0.001 (default)"
   ]
  },
  {
   "cell_type": "code",
   "execution_count": 8,
   "metadata": {},
   "outputs": [
    {
     "name": "stdout",
     "output_type": "stream",
     "text": [
      "_________________________________________________________________\n",
      "Layer (type)                 Output Shape              Param #   \n",
      "=================================================================\n",
      "dense_1 (Dense)              (None, 16)                80        \n",
      "_________________________________________________________________\n",
      "dense_2 (Dense)              (None, 16)                272       \n",
      "_________________________________________________________________\n",
      "dense_3 (Dense)              (None, 2)                 34        \n",
      "=================================================================\n",
      "Total params: 386\n",
      "Trainable params: 386\n",
      "Non-trainable params: 0\n",
      "_________________________________________________________________\n"
     ]
    }
   ],
   "source": [
    "model.summary()"
   ]
  },
  {
   "cell_type": "markdown",
   "metadata": {},
   "source": [
    "- Q값 얻어내기"
   ]
  },
  {
   "cell_type": "code",
   "execution_count": 24,
   "metadata": {},
   "outputs": [
    {
     "data": {
      "text/plain": [
       "array([[0.0059104 , 0.02099181]], dtype=float32)"
      ]
     },
     "execution_count": 24,
     "metadata": {},
     "output_type": "execute_result"
    }
   ],
   "source": [
    "s = np.array([1,0,1,0])\n",
    "\n",
    "model.predict(s.reshape(1,4))"
   ]
  },
  {
   "cell_type": "markdown",
   "metadata": {},
   "source": [
    "- 가중치 확인 (초기 셋팅값)\n",
    "- 초기값 설정 : https://keras.io/initializers/"
   ]
  },
  {
   "cell_type": "code",
   "execution_count": 26,
   "metadata": {},
   "outputs": [],
   "source": [
    "ws = model.get_weights()"
   ]
  },
  {
   "cell_type": "code",
   "execution_count": 27,
   "metadata": {},
   "outputs": [
    {
     "data": {
      "text/plain": [
       "array([[-0.10128778, -0.03518373,  0.31941575, -0.38432896, -0.18192643,\n",
       "         0.1713854 , -0.27279335, -0.1486131 , -0.07942459, -0.45708877,\n",
       "         0.10890102,  0.09483194, -0.49641055, -0.05403948,  0.09055692,\n",
       "        -0.4748562 ],\n",
       "       [-0.17529875,  0.18132079,  0.22750884,  0.09627491,  0.01750338,\n",
       "         0.15066713, -0.11466891, -0.54129714,  0.25865948, -0.21445534,\n",
       "        -0.25926176, -0.5234067 , -0.5314047 ,  0.5256541 , -0.38044032,\n",
       "         0.49869287],\n",
       "       [ 0.3700781 ,  0.47584128, -0.07977301,  0.5089061 ,  0.03497154,\n",
       "         0.01774341,  0.40471834, -0.13499442, -0.11919808, -0.45927846,\n",
       "        -0.10829261,  0.269332  ,  0.47425938,  0.08524293,  0.46433628,\n",
       "        -0.16485724],\n",
       "       [-0.23287296, -0.40719151, -0.08125243,  0.5072242 ,  0.25558728,\n",
       "        -0.11382714, -0.31913143,  0.29808795, -0.4492752 ,  0.04185933,\n",
       "         0.35437614, -0.19732633,  0.16063225, -0.42413077,  0.46120906,\n",
       "        -0.49801153]], dtype=float32)"
      ]
     },
     "execution_count": 27,
     "metadata": {},
     "output_type": "execute_result"
    }
   ],
   "source": [
    "ws[0]"
   ]
  },
  {
   "cell_type": "code",
   "execution_count": 16,
   "metadata": {},
   "outputs": [
    {
     "data": {
      "text/plain": [
       "array([0., 0., 0., 0., 0., 0., 0., 0., 0., 0., 0., 0., 0., 0., 0., 0.],\n",
       "      dtype=float32)"
      ]
     },
     "execution_count": 16,
     "metadata": {},
     "output_type": "execute_result"
    }
   ],
   "source": [
    "ws[1]"
   ]
  },
  {
   "cell_type": "markdown",
   "metadata": {},
   "source": [
    "### 버퍼 지정\n",
    "- 시뮬레이션 이력을 저장해 놓는다\n",
    "- 총 10000개의 이력 저장\n",
    "- collections.deque 는 버퍼가 꽉 차면 오래된 데이터 부터 버린다"
   ]
  },
  {
   "cell_type": "code",
   "execution_count": 53,
   "metadata": {},
   "outputs": [],
   "source": [
    "import collections\n",
    "\n",
    "memory = collections.deque(maxlen = 10000)"
   ]
  },
  {
   "cell_type": "markdown",
   "metadata": {},
   "source": [
    "### 사전 학습\n",
    "- 한 번에 학습할 배치 크기를 32 로 할 예정이므로, 미리 32개의 이력을 만들어 놓는다\n",
    "- 랜덤 행동을 하여 memory 에 저장한다"
   ]
  },
  {
   "cell_type": "code",
   "execution_count": 54,
   "metadata": {},
   "outputs": [],
   "source": [
    "s = env.reset()"
   ]
  },
  {
   "cell_type": "code",
   "execution_count": 55,
   "metadata": {},
   "outputs": [],
   "source": [
    "for i in range(32):\n",
    "    action = env.action_space.sample() # np.random.randint(2)\n",
    "    s2, r, done, _ = env.step(action)\n",
    "    \n",
    "    memory.append([s, action, r, done, s2])\n",
    "    \n",
    "    s = env.reset() if done else s2 # done 이면 리셋"
   ]
  },
  {
   "cell_type": "code",
   "execution_count": 56,
   "metadata": {},
   "outputs": [
    {
     "data": {
      "text/plain": [
       "32"
      ]
     },
     "execution_count": 56,
     "metadata": {},
     "output_type": "execute_result"
    }
   ],
   "source": [
    "len(memory)"
   ]
  },
  {
   "cell_type": "code",
   "execution_count": 57,
   "metadata": {},
   "outputs": [
    {
     "data": {
      "text/plain": [
       "[array([ 0.00678465, -0.0087368 ,  0.03761938,  0.02771324]),\n",
       " 1,\n",
       " 1.0,\n",
       " False,\n",
       " array([ 0.00660992,  0.18582603,  0.03817365, -0.25286704])]"
      ]
     },
     "metadata": {},
     "output_type": "display_data"
    },
    {
     "data": {
      "text/plain": [
       "[array([-0.01651723,  0.0397381 , -0.04994808, -0.00332583]),\n",
       " 1,\n",
       " 1.0,\n",
       " False,\n",
       " array([-0.01572246,  0.23553948, -0.0500146 , -0.31134024])]"
      ]
     },
     "metadata": {},
     "output_type": "display_data"
    }
   ],
   "source": [
    "display(memory[0], memory[-1])"
   ]
  },
  {
   "attachments": {},
   "cell_type": "markdown",
   "metadata": {},
   "source": [
    "### Q-learning & SARSA\n",
    "\n",
    "- Temporal difference learning\n",
    "<img src='https://wikimedia.org/api/rest_v1/media/math/render/svg/9c2c752364a919d563253cdab2ab846e59d5cb8d' /><br>\n",
    "\n",
    "- Q-learning\n",
    "<img src='https://wikimedia.org/api/rest_v1/media/math/render/svg/47fa1e5cf8cf75996a777c11c7b9445dc96d4637' /><br>\n",
    "\n",
    "- SARSA (State–action–reward–state–action)\n",
    "<img src='https://wikimedia.org/api/rest_v1/media/math/render/svg/4ea76ebe74645baff9d5a67c83eac1daff812d79' /><br>\n",
    "\n",
    "(출처 : wikipedia)"
   ]
  },
  {
   "cell_type": "markdown",
   "metadata": {},
   "source": [
    "### Exploitation vs Exploration (관례 대 탐험)\n",
    "- Exploitation : 기존 경험에 비추어 결과가 가장 좋았던 행동을 수행하는 행동 결정 방식\n",
    "- Exploration : 가장 좋았던 행동이 아니라 새로운 행동을 수행하는 방식 (흔하게는 랜덤 행동 수행)\n",
    "- 일반적으로, 처음에는 탐험을 하다가 경험이 쌓일 수록 점점 관례를 많이 따르도록 한다.\n",
    "- epsilon($\\epsilon$) : 탐험을 수행할 확률을 지정"
   ]
  },
  {
   "cell_type": "markdown",
   "metadata": {},
   "source": [
    "### 학습 실행"
   ]
  },
  {
   "cell_type": "code",
   "execution_count": 58,
   "metadata": {},
   "outputs": [],
   "source": [
    "epsilon = 1.0 # 처음에는 탐험만 수행한다. (랜덤 행동)\n",
    "gamma = 0.99 # 감쇠율 (discount factor, 미래 보상을 얼마나 중요시할 지를 결정)\n",
    "returns = [] # 에피소드 당 총보상값을 저장한다\n",
    "count = 0"
   ]
  },
  {
   "cell_type": "code",
   "execution_count": 59,
   "metadata": {
    "scrolled": true
   },
   "outputs": [
    {
     "name": "stdout",
     "output_type": "stream",
     "text": [
      "Episode: 1, Reward: 23, Epsilon: 0.99782\n",
      "Episode: 2, Reward: 20, Epsilon: 0.99585\n",
      "Episode: 3, Reward: 9, Epsilon: 0.99496\n",
      "Episode: 4, Reward: 14, Epsilon: 0.99359\n",
      "Episode: 5, Reward: 23, Epsilon: 0.99133\n",
      "Episode: 6, Reward: 11, Epsilon: 0.99025\n",
      "Episode: 7, Reward: 15, Epsilon: 0.98878\n",
      "Episode: 8, Reward: 16, Epsilon: 0.98721\n",
      "Episode: 9, Reward: 14, Epsilon: 0.98585\n",
      "Episode: 10, Reward: 24, Epsilon: 0.98351\n",
      "Episode: 11, Reward: 37, Epsilon: 0.97991\n",
      "Episode: 12, Reward: 19, Epsilon: 0.97807\n",
      "Episode: 13, Reward: 11, Epsilon: 0.97701\n",
      "Episode: 14, Reward: 23, Epsilon: 0.97478\n",
      "Episode: 15, Reward: 21, Epsilon: 0.97276\n",
      "Episode: 16, Reward: 15, Epsilon: 0.97132\n",
      "Episode: 17, Reward: 27, Epsilon: 0.96873\n",
      "Episode: 18, Reward: 12, Epsilon: 0.96758\n",
      "Episode: 19, Reward: 9, Epsilon: 0.96671\n",
      "Episode: 20, Reward: 20, Epsilon: 0.96480\n",
      "Episode: 21, Reward: 32, Epsilon: 0.96175\n",
      "Episode: 22, Reward: 10, Epsilon: 0.96080\n",
      "Episode: 23, Reward: 16, Epsilon: 0.95928\n",
      "Episode: 24, Reward: 15, Epsilon: 0.95786\n",
      "Episode: 25, Reward: 14, Epsilon: 0.95653\n",
      "Episode: 26, Reward: 24, Epsilon: 0.95426\n",
      "Episode: 27, Reward: 39, Epsilon: 0.95059\n",
      "Episode: 28, Reward: 35, Epsilon: 0.94730\n",
      "Episode: 29, Reward: 28, Epsilon: 0.94468\n",
      "Episode: 30, Reward: 20, Epsilon: 0.94281\n",
      "Episode: 31, Reward: 52, Epsilon: 0.93798\n",
      "Episode: 32, Reward: 26, Epsilon: 0.93557\n",
      "Episode: 33, Reward: 15, Epsilon: 0.93418\n",
      "Episode: 34, Reward: 23, Epsilon: 0.93206\n",
      "Episode: 35, Reward: 16, Epsilon: 0.93058\n",
      "Episode: 36, Reward: 17, Epsilon: 0.92902\n",
      "Episode: 37, Reward: 14, Epsilon: 0.92773\n",
      "Episode: 38, Reward: 12, Epsilon: 0.92663\n",
      "Episode: 39, Reward: 45, Epsilon: 0.92252\n",
      "Episode: 40, Reward: 47, Epsilon: 0.91824\n",
      "Episode: 41, Reward: 27, Epsilon: 0.91579\n",
      "Episode: 42, Reward: 27, Epsilon: 0.91335\n",
      "Episode: 43, Reward: 18, Epsilon: 0.91172\n",
      "Episode: 44, Reward: 9, Epsilon: 0.91091\n",
      "Episode: 45, Reward: 22, Epsilon: 0.90893\n",
      "Episode: 46, Reward: 11, Epsilon: 0.90794\n",
      "Episode: 47, Reward: 19, Epsilon: 0.90624\n",
      "Episode: 48, Reward: 38, Epsilon: 0.90284\n",
      "Episode: 49, Reward: 12, Epsilon: 0.90177\n",
      "Episode: 50, Reward: 49, Epsilon: 0.89741\n",
      "Episode: 51, Reward: 20, Epsilon: 0.89564\n",
      "Episode: 52, Reward: 40, Epsilon: 0.89210\n",
      "Episode: 53, Reward: 42, Epsilon: 0.88840\n",
      "Episode: 54, Reward: 20, Epsilon: 0.88665\n",
      "Episode: 55, Reward: 38, Epsilon: 0.88332\n",
      "Episode: 56, Reward: 42, Epsilon: 0.87966\n",
      "Episode: 57, Reward: 18, Epsilon: 0.87810\n",
      "Episode: 58, Reward: 61, Epsilon: 0.87282\n",
      "Episode: 59, Reward: 23, Epsilon: 0.87084\n",
      "Episode: 60, Reward: 17, Epsilon: 0.86937\n",
      "Episode: 61, Reward: 25, Epsilon: 0.86723\n",
      "Episode: 62, Reward: 76, Epsilon: 0.86074\n",
      "Episode: 63, Reward: 16, Epsilon: 0.85938\n",
      "Episode: 64, Reward: 30, Epsilon: 0.85683\n",
      "Episode: 65, Reward: 36, Epsilon: 0.85379\n",
      "Episode: 66, Reward: 55, Epsilon: 0.84916\n",
      "Episode: 67, Reward: 29, Epsilon: 0.84673\n",
      "Episode: 68, Reward: 14, Epsilon: 0.84556\n",
      "Episode: 69, Reward: 65, Epsilon: 0.84015\n",
      "Episode: 70, Reward: 15, Epsilon: 0.83890\n",
      "Episode: 71, Reward: 40, Epsilon: 0.83560\n",
      "Episode: 72, Reward: 42, Epsilon: 0.83214\n",
      "Episode: 73, Reward: 37, Epsilon: 0.82910\n",
      "Episode: 74, Reward: 52, Epsilon: 0.82485\n",
      "Episode: 75, Reward: 22, Epsilon: 0.82306\n",
      "Episode: 76, Reward: 11, Epsilon: 0.82217\n",
      "Episode: 77, Reward: 67, Epsilon: 0.81674\n",
      "Episode: 78, Reward: 60, Epsilon: 0.81192\n",
      "Episode: 79, Reward: 12, Epsilon: 0.81096\n",
      "Episode: 80, Reward: 44, Epsilon: 0.80744\n",
      "Episode: 81, Reward: 9, Epsilon: 0.80672\n",
      "Episode: 82, Reward: 20, Epsilon: 0.80513\n",
      "Episode: 83, Reward: 108, Epsilon: 0.79659\n",
      "Episode: 84, Reward: 10, Epsilon: 0.79580\n",
      "Episode: 85, Reward: 68, Epsilon: 0.79048\n",
      "Episode: 86, Reward: 87, Epsilon: 0.78372\n",
      "Episode: 87, Reward: 43, Epsilon: 0.78040\n",
      "Episode: 88, Reward: 30, Epsilon: 0.77809\n",
      "Episode: 89, Reward: 59, Epsilon: 0.77357\n",
      "Episode: 90, Reward: 33, Epsilon: 0.77105\n",
      "Episode: 91, Reward: 32, Epsilon: 0.76862\n",
      "Episode: 92, Reward: 37, Epsilon: 0.76582\n",
      "Episode: 93, Reward: 34, Epsilon: 0.76326\n",
      "Episode: 94, Reward: 26, Epsilon: 0.76130\n",
      "Episode: 95, Reward: 119, Epsilon: 0.75241\n",
      "Episode: 96, Reward: 45, Epsilon: 0.74908\n",
      "Episode: 97, Reward: 25, Epsilon: 0.74723\n",
      "Episode: 98, Reward: 114, Epsilon: 0.73888\n",
      "Episode: 99, Reward: 37, Epsilon: 0.73619\n",
      "Episode: 100, Reward: 81, Epsilon: 0.73033\n",
      "Episode: 101, Reward: 31, Epsilon: 0.72810\n",
      "Episode: 102, Reward: 39, Epsilon: 0.72530\n",
      "Episode: 103, Reward: 56, Epsilon: 0.72131\n",
      "Episode: 104, Reward: 55, Epsilon: 0.71741\n",
      "Episode: 105, Reward: 18, Epsilon: 0.71613\n",
      "Episode: 106, Reward: 57, Epsilon: 0.71212\n",
      "Episode: 107, Reward: 15, Epsilon: 0.71107\n",
      "Episode: 108, Reward: 13, Epsilon: 0.71016\n",
      "Episode: 109, Reward: 47, Epsilon: 0.70687\n",
      "Episode: 110, Reward: 19, Epsilon: 0.70555\n",
      "Episode: 111, Reward: 14, Epsilon: 0.70458\n",
      "Episode: 112, Reward: 28, Epsilon: 0.70264\n",
      "Episode: 113, Reward: 54, Epsilon: 0.69891\n",
      "Episode: 114, Reward: 110, Epsilon: 0.69137\n",
      "Episode: 115, Reward: 65, Epsilon: 0.68696\n",
      "Episode: 116, Reward: 40, Epsilon: 0.68425\n",
      "Episode: 117, Reward: 43, Epsilon: 0.68136\n",
      "Episode: 118, Reward: 61, Epsilon: 0.67728\n",
      "Episode: 119, Reward: 57, Epsilon: 0.67348\n",
      "Episode: 120, Reward: 172, Epsilon: 0.66217\n",
      "Episode: 121, Reward: 129, Epsilon: 0.65381\n",
      "Episode: 122, Reward: 103, Epsilon: 0.64721\n",
      "Episode: 123, Reward: 117, Epsilon: 0.63980\n",
      "Episode: 124, Reward: 18, Epsilon: 0.63867\n",
      "Episode: 125, Reward: 16, Epsilon: 0.63766\n",
      "Episode: 126, Reward: 98, Epsilon: 0.63154\n",
      "Episode: 127, Reward: 125, Epsilon: 0.62382\n",
      "Episode: 128, Reward: 110, Epsilon: 0.61711\n",
      "Episode: 129, Reward: 151, Epsilon: 0.60801\n",
      "Episode: 130, Reward: 161, Epsilon: 0.59846\n",
      "Episode: 131, Reward: 86, Epsilon: 0.59342\n",
      "Episode: 132, Reward: 58, Epsilon: 0.59004\n",
      "Episode: 133, Reward: 67, Epsilon: 0.58617\n",
      "Episode: 134, Reward: 118, Epsilon: 0.57941\n",
      "Episode: 135, Reward: 84, Epsilon: 0.57465\n",
      "Episode: 136, Reward: 115, Epsilon: 0.56819\n",
      "Episode: 137, Reward: 183, Epsilon: 0.55807\n",
      "Episode: 138, Reward: 60, Epsilon: 0.55479\n",
      "Episode: 139, Reward: 67, Epsilon: 0.55115\n",
      "Episode: 140, Reward: 200, Epsilon: 0.54044\n",
      "Episode: 141, Reward: 57, Epsilon: 0.53742\n",
      "Episode: 142, Reward: 95, Epsilon: 0.53244\n",
      "Episode: 143, Reward: 160, Epsilon: 0.52414\n",
      "Episode: 144, Reward: 23, Epsilon: 0.52296\n",
      "Episode: 145, Reward: 113, Epsilon: 0.51720\n",
      "Episode: 146, Reward: 189, Epsilon: 0.50770\n",
      "Episode: 147, Reward: 65, Epsilon: 0.50448\n",
      "Episode: 148, Reward: 200, Epsilon: 0.49469\n",
      "Episode: 149, Reward: 199, Epsilon: 0.48514\n",
      "Episode: 150, Reward: 200, Epsilon: 0.47573\n",
      "Episode: 151, Reward: 176, Epsilon: 0.46760\n",
      "Episode: 152, Reward: 14, Epsilon: 0.46696\n",
      "Episode: 153, Reward: 142, Epsilon: 0.46052\n",
      "Episode: 154, Reward: 42, Epsilon: 0.45863\n",
      "Episode: 155, Reward: 200, Epsilon: 0.44975\n",
      "Episode: 156, Reward: 184, Epsilon: 0.44173\n",
      "Episode: 157, Reward: 166, Epsilon: 0.43462\n",
      "Episode: 158, Reward: 179, Epsilon: 0.42709\n",
      "Episode: 159, Reward: 173, Epsilon: 0.41994\n",
      "Episode: 160, Reward: 200, Epsilon: 0.41182\n",
      "Episode: 161, Reward: 30, Epsilon: 0.41062\n",
      "Episode: 162, Reward: 65, Epsilon: 0.40802\n",
      "Episode: 163, Reward: 162, Epsilon: 0.40163\n",
      "Episode: 164, Reward: 200, Epsilon: 0.39387\n",
      "Episode: 165, Reward: 98, Epsilon: 0.39013\n",
      "Episode: 166, Reward: 148, Epsilon: 0.38454\n",
      "Episode: 167, Reward: 200, Epsilon: 0.37713\n",
      "Episode: 168, Reward: 200, Epsilon: 0.36986\n",
      "Episode: 169, Reward: 200, Epsilon: 0.36273\n",
      "Episode: 170, Reward: 200, Epsilon: 0.35575\n",
      "Episode: 171, Reward: 200, Epsilon: 0.34890\n",
      "Episode: 172, Reward: 200, Epsilon: 0.34219\n",
      "Episode: 173, Reward: 200, Epsilon: 0.33561\n",
      "Episode: 174, Reward: 200, Epsilon: 0.32916\n",
      "Episode: 175, Reward: 200, Epsilon: 0.32284\n",
      "Episode: 176, Reward: 200, Epsilon: 0.31665\n",
      "Episode: 177, Reward: 193, Epsilon: 0.31079\n",
      "Episode: 178, Reward: 200, Epsilon: 0.30483\n",
      "Episode: 179, Reward: 200, Epsilon: 0.29899\n",
      "Episode: 180, Reward: 200, Epsilon: 0.29327\n",
      "Episode: 181, Reward: 200, Epsilon: 0.28766\n",
      "Episode: 182, Reward: 183, Epsilon: 0.28263\n",
      "Episode: 183, Reward: 189, Epsilon: 0.27752\n",
      "Episode: 184, Reward: 179, Epsilon: 0.27278\n",
      "Episode: 185, Reward: 196, Epsilon: 0.26768\n",
      "Episode: 186, Reward: 200, Epsilon: 0.26257\n",
      "Episode: 187, Reward: 200, Epsilon: 0.25757\n",
      "Episode: 188, Reward: 180, Epsilon: 0.25316\n",
      "Episode: 189, Reward: 130, Epsilon: 0.25002\n",
      "Episode: 190, Reward: 154, Epsilon: 0.24635\n",
      "Episode: 191, Reward: 182, Epsilon: 0.24209\n",
      "Episode: 192, Reward: 155, Epsilon: 0.23852\n"
     ]
    },
    {
     "name": "stdout",
     "output_type": "stream",
     "text": [
      "Episode: 193, Reward: 118, Epsilon: 0.23584\n",
      "Episode: 194, Reward: 161, Epsilon: 0.23223\n",
      "Episode: 195, Reward: 131, Epsilon: 0.22934\n",
      "Episode: 196, Reward: 138, Epsilon: 0.22633\n",
      "Episode: 197, Reward: 121, Epsilon: 0.22373\n",
      "Episode: 198, Reward: 126, Epsilon: 0.22105\n",
      "Episode: 199, Reward: 86, Epsilon: 0.21924\n",
      "Episode: 200, Reward: 106, Epsilon: 0.21704\n",
      "Episode: 201, Reward: 138, Epsilon: 0.21420\n",
      "Episode: 202, Reward: 108, Epsilon: 0.21201\n",
      "Episode: 203, Reward: 114, Epsilon: 0.20972\n",
      "Episode: 204, Reward: 112, Epsilon: 0.20749\n",
      "Episode: 205, Reward: 100, Epsilon: 0.20553\n",
      "Episode: 206, Reward: 104, Epsilon: 0.20351\n",
      "Episode: 207, Reward: 93, Epsilon: 0.20171\n",
      "Episode: 208, Reward: 81, Epsilon: 0.20017\n",
      "Episode: 209, Reward: 71, Epsilon: 0.19882\n",
      "Episode: 210, Reward: 72, Epsilon: 0.19747\n",
      "Episode: 211, Reward: 75, Epsilon: 0.19607\n",
      "Episode: 212, Reward: 20, Epsilon: 0.19569\n",
      "Episode: 213, Reward: 70, Epsilon: 0.19440\n",
      "Episode: 214, Reward: 66, Epsilon: 0.19319\n",
      "Episode: 215, Reward: 93, Epsilon: 0.19149\n",
      "Episode: 216, Reward: 81, Epsilon: 0.19003\n",
      "Episode: 217, Reward: 78, Epsilon: 0.18863\n",
      "Episode: 218, Reward: 13, Epsilon: 0.18840\n",
      "Episode: 219, Reward: 78, Epsilon: 0.18701\n",
      "Episode: 220, Reward: 81, Epsilon: 0.18558\n",
      "Episode: 221, Reward: 64, Epsilon: 0.18446\n",
      "Episode: 222, Reward: 68, Epsilon: 0.18328\n",
      "Episode: 223, Reward: 59, Epsilon: 0.18226\n",
      "Episode: 224, Reward: 18, Epsilon: 0.18195\n",
      "Episode: 225, Reward: 58, Epsilon: 0.18096\n",
      "Episode: 226, Reward: 64, Epsilon: 0.17987\n",
      "Episode: 227, Reward: 64, Epsilon: 0.17878\n",
      "Episode: 228, Reward: 62, Epsilon: 0.17774\n",
      "Episode: 229, Reward: 68, Epsilon: 0.17660\n",
      "Episode: 230, Reward: 17, Epsilon: 0.17632\n",
      "Episode: 231, Reward: 33, Epsilon: 0.17577\n",
      "Episode: 232, Reward: 61, Epsilon: 0.17476\n",
      "Episode: 233, Reward: 44, Epsilon: 0.17404\n",
      "Episode: 234, Reward: 63, Epsilon: 0.17301\n",
      "Episode: 235, Reward: 18, Epsilon: 0.17272\n",
      "Episode: 236, Reward: 49, Epsilon: 0.17192\n",
      "Episode: 237, Reward: 64, Epsilon: 0.17089\n",
      "Episode: 238, Reward: 74, Epsilon: 0.16970\n",
      "Episode: 239, Reward: 71, Epsilon: 0.16857\n",
      "Episode: 240, Reward: 66, Epsilon: 0.16753\n",
      "Episode: 241, Reward: 70, Epsilon: 0.16643\n",
      "Episode: 242, Reward: 65, Epsilon: 0.16542\n",
      "Episode: 243, Reward: 70, Epsilon: 0.16433\n",
      "Episode: 244, Reward: 68, Epsilon: 0.16329\n",
      "Episode: 245, Reward: 80, Epsilon: 0.16206\n",
      "Episode: 246, Reward: 42, Epsilon: 0.16143\n",
      "Episode: 247, Reward: 90, Epsilon: 0.16007\n",
      "Episode: 248, Reward: 85, Epsilon: 0.15880\n",
      "Episode: 249, Reward: 73, Epsilon: 0.15772\n",
      "Episode: 250, Reward: 72, Epsilon: 0.15666\n",
      "Episode: 251, Reward: 52, Epsilon: 0.15590\n",
      "Episode: 252, Reward: 76, Epsilon: 0.15479\n",
      "Episode: 253, Reward: 97, Epsilon: 0.15340\n",
      "Episode: 254, Reward: 74, Epsilon: 0.15234\n",
      "Episode: 255, Reward: 84, Epsilon: 0.15115\n",
      "Episode: 256, Reward: 98, Epsilon: 0.14977\n",
      "Episode: 257, Reward: 103, Epsilon: 0.14834\n",
      "Episode: 258, Reward: 97, Epsilon: 0.14700\n",
      "Episode: 259, Reward: 114, Epsilon: 0.14545\n",
      "Episode: 260, Reward: 91, Epsilon: 0.14422\n",
      "Episode: 261, Reward: 111, Epsilon: 0.14274\n",
      "Episode: 262, Reward: 117, Epsilon: 0.14120\n",
      "Episode: 263, Reward: 41, Epsilon: 0.14066\n",
      "Episode: 264, Reward: 13, Epsilon: 0.14049\n",
      "Episode: 265, Reward: 16, Epsilon: 0.14028\n",
      "Episode: 266, Reward: 10, Epsilon: 0.14015\n",
      "Episode: 267, Reward: 12, Epsilon: 0.14000\n",
      "Episode: 268, Reward: 10, Epsilon: 0.13987\n",
      "Episode: 269, Reward: 11, Epsilon: 0.13972\n",
      "Episode: 270, Reward: 10, Epsilon: 0.13959\n",
      "Episode: 271, Reward: 11, Epsilon: 0.13945\n",
      "Episode: 272, Reward: 14, Epsilon: 0.13927\n",
      "Episode: 273, Reward: 10, Epsilon: 0.13914\n",
      "Episode: 274, Reward: 10, Epsilon: 0.13901\n",
      "Episode: 275, Reward: 9, Epsilon: 0.13890\n",
      "Episode: 276, Reward: 10, Epsilon: 0.13877\n",
      "Episode: 277, Reward: 10, Epsilon: 0.13864\n",
      "Episode: 278, Reward: 10, Epsilon: 0.13851\n",
      "Episode: 279, Reward: 10, Epsilon: 0.13838\n",
      "Episode: 280, Reward: 13, Epsilon: 0.13821\n",
      "Episode: 281, Reward: 10, Epsilon: 0.13809\n",
      "Episode: 282, Reward: 12, Epsilon: 0.13793\n",
      "Episode: 283, Reward: 9, Epsilon: 0.13782\n",
      "Episode: 284, Reward: 11, Epsilon: 0.13768\n",
      "Episode: 285, Reward: 10, Epsilon: 0.13755\n",
      "Episode: 286, Reward: 14, Epsilon: 0.13737\n",
      "Episode: 287, Reward: 14, Epsilon: 0.13719\n",
      "Episode: 288, Reward: 11, Epsilon: 0.13705\n",
      "Episode: 289, Reward: 14, Epsilon: 0.13688\n",
      "Episode: 290, Reward: 20, Epsilon: 0.13662\n",
      "Episode: 291, Reward: 12, Epsilon: 0.13647\n",
      "Episode: 292, Reward: 10, Epsilon: 0.13634\n",
      "Episode: 293, Reward: 11, Epsilon: 0.13620\n",
      "Episode: 294, Reward: 10, Epsilon: 0.13608\n",
      "Episode: 295, Reward: 16, Epsilon: 0.13588\n",
      "Episode: 296, Reward: 15, Epsilon: 0.13569\n",
      "Episode: 297, Reward: 15, Epsilon: 0.13550\n",
      "Episode: 298, Reward: 17, Epsilon: 0.13529\n",
      "Episode: 299, Reward: 19, Epsilon: 0.13505\n",
      "Episode: 300, Reward: 39, Epsilon: 0.13456\n"
     ]
    }
   ],
   "source": [
    "### 총 10000번의 에피소드를 진행한다.\n",
    "for episode in range(300):\n",
    "    \n",
    "    total_reward = 0 # 에피소스당 총보상값\n",
    "    \n",
    "    s = env.reset()\n",
    "    \n",
    "    for i in range(200): # 한 에피소드당 최대 200번만 행동한다\n",
    "        \n",
    "        ### 탐험 확률 지정 (1 부터 시작해서 점점 낮아지다 최소값은 1%)\n",
    "        epsilon = 0.01 + (1-0.01)*np.exp(-0.0001*count)\n",
    "        count += 1\n",
    "        \n",
    "        if np.random.rand() < epsilon:\n",
    "            action = env.action_space.sample() # 랜덤 행동\n",
    "        else:\n",
    "            action = np.argmax(model.predict(s.reshape(1,4))[0]) # Q값이 높은 행동 선택\n",
    "            \n",
    "        s2, r, done, _ = env.step(action)\n",
    "        \n",
    "        total_reward += r\n",
    "        \n",
    "        memory.append([s, action, r, done, s2])\n",
    "        \n",
    "        ### 학습 (배치크기는 32)\n",
    "        indices = np.random.choice(len(memory), 32, replace=False)\n",
    "        samples = [memory[i] for i in indices]\n",
    "        \n",
    "        X = np.zeros([32,4]) # 입력 상태값\n",
    "        y = np.zeros([32,2]) # 목표 Q값\n",
    "        \n",
    "        for i, sample in enumerate(samples): # sample -> [s,a,r,done,s2]\n",
    "            X[i] = sample[0]\n",
    "            y[i] = model.predict(sample[0].reshape(1,4))[0]\n",
    "            \n",
    "            if sample[3] == True: # done\n",
    "                y[i][sample[1]] = sample[2]\n",
    "            else:\n",
    "                y[i][sample[1]] = sample[2] + gamma*np.max(model.predict(sample[-1].reshape(1,4))[0])\n",
    "                \n",
    "        model.fit(X, y, epochs=1, verbose=False)\n",
    "        \n",
    "        if done:\n",
    "            break\n",
    "        else:\n",
    "            s = s2\n",
    "            \n",
    "    print('Episode: %d, Reward: %d, Epsilon: %.5f' % (episode+1, total_reward, epsilon))\n",
    "    returns.append(total_reward)"
   ]
  },
  {
   "cell_type": "code",
   "execution_count": 60,
   "metadata": {},
   "outputs": [
    {
     "data": {
      "text/plain": [
       "(300, 10000)"
      ]
     },
     "execution_count": 60,
     "metadata": {},
     "output_type": "execute_result"
    }
   ],
   "source": [
    "len(returns), len(memory)"
   ]
  },
  {
   "cell_type": "code",
   "execution_count": 61,
   "metadata": {},
   "outputs": [
    {
     "data": {
      "text/plain": [
       "[<matplotlib.lines.Line2D at 0x17f48aafda0>]"
      ]
     },
     "execution_count": 61,
     "metadata": {},
     "output_type": "execute_result"
    },
    {
     "data": {
      "image/png": "[encoded data removed]",
      "text/plain": [
       "<Figure size 432x288 with 1 Axes>"
      ]
     },
     "metadata": {},
     "output_type": "display_data"
    }
   ],
   "source": [
    "plt.plot(returns)"
   ]
  },
  {
   "cell_type": "markdown",
   "metadata": {},
   "source": [
    "### 게임 테스트"
   ]
  },
  {
   "cell_type": "code",
   "execution_count": 64,
   "metadata": {},
   "outputs": [
    {
     "name": "stdout",
     "output_type": "stream",
     "text": [
      "Epoch: 1, Count: 48\n",
      "[0.21030319 1.06629887 0.21502625 0.17219575] 1.0 True {}\n",
      "Epoch: 2, Count: 50\n",
      "[0.19367029 1.07317486 0.2162952  0.159104  ] 1.0 True {}\n",
      "Epoch: 3, Count: 42\n",
      "[0.18005693 1.07936348 0.2097962  0.03738311] 1.0 True {}\n"
     ]
    }
   ],
   "source": [
    "for epoch in range(3):\n",
    "    env.reset()\n",
    "    \n",
    "    done = False\n",
    "    n = 0\n",
    "    while not done:\n",
    "        #a = np.random.randint(2)\n",
    "        a = np.argmax(model.predict(s.reshape(1,4))[0])\n",
    "        s, r, done, info = env.step(a)\n",
    "        n += 1\n",
    "        env.render()\n",
    "        #print(s, r, done, info)\n",
    "        \n",
    "    print('Epoch: %d, Count: %d' % (epoch+1, n))\n",
    "    print(s, r, done, info)\n",
    "    #input()"
   ]
  },
  {
   "cell_type": "code",
   "execution_count": 65,
   "metadata": {},
   "outputs": [],
   "source": [
    "env.close()"
   ]
  }
 ],
 "metadata": {
  "kernelspec": {
   "display_name": "Python 3",
   "language": "python",
   "name": "python3"
  },
  "language_info": {
   "codemirror_mode": {
    "name": "ipython",
    "version": 3
   },
   "file_extension": ".py",
   "mimetype": "text/x-python",
   "name": "python",
   "nbconvert_exporter": "python",
   "pygments_lexer": "ipython3",
   "version": "3.6.5"
  }
 },
 "nbformat": 4,
 "nbformat_minor": 2
}
